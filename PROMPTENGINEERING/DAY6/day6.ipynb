{
 "cells": [
  {
   "cell_type": "code",
   "execution_count": 2,
   "metadata": {},
   "outputs": [],
   "source": [
    "import sys\n",
    "from langchain_aws import ChatBedrock\n",
    "from langchain_core.messages import HumanMessage, AIMessage, SystemMessage, trim_messages\n",
    "from langchain_core.prompts import ChatPromptTemplate, MessagesPlaceholder\n",
    "from langchain_core.runnables import RunnablePassthrough\n",
    "from langchain_community.chat_message_histories import ChatMessageHistory\n",
    "from langchain_core.chat_history import BaseChatMessageHistory\n",
    "from langchain_core.runnables.history import RunnableWithMessageHistory\n",
    "from operator import itemgetter\n",
    "\n",
    "# Initialize model\n",
    "model_id = \"anthropic.claude-3-haiku-20240307-v1:0\"\n",
    "model = ChatBedrock(model_id=model_id)\n",
    "\n",
    "# Setup message history store\n",
    "store = {}\n",
    "\n",
    "def get_session_history(session_id: str) -> BaseChatMessageHistory:\n",
    "    if session_id not in store:\n",
    "        store[session_id] = ChatMessageHistory()\n",
    "    return store[session_id]"
   ]
  },
  {
   "cell_type": "code",
   "execution_count": 5,
   "metadata": {},
   "outputs": [],
   "source": [
    "# Define prompt template\n",
    "prompt = ChatPromptTemplate.from_messages(\n",
    "    [\n",
    "        (\"system\", \"You are a helpful assistant. Answer all questions to the best of your ability.\"),\n",
    "        MessagesPlaceholder(variable_name=\"messages\"),\n",
    "    ]\n",
    ")\n",
    "\n",
    "# Setup chain with message history\n",
    "chain = prompt | model\n",
    "with_message_history = RunnableWithMessageHistory(chain, get_session_history, input_messages_key=\"messages\")\n",
    "\n",
    "# Trimmer to manage conversation history\n",
    "trimmer = trim_messages(\n",
    "    max_tokens=1024,\n",
    "    strategy=\"last\",\n",
    "    token_counter=model,\n",
    "    include_system=True,\n",
    "    allow_partial=False,\n",
    "    start_on=\"human\",\n",
    ")\n",
    "\n",
    "chain = (\n",
    "    RunnablePassthrough.assign(messages=itemgetter(\"messages\") | trimmer)\n",
    "    | prompt\n",
    "    | model\n",
    ")\n",
    "\n",
    "with_message_history = RunnableWithMessageHistory(\n",
    "    chain,\n",
    "    get_session_history,\n",
    "    input_messages_key=\"messages\",\n",
    ")"
   ]
  },
  {
   "cell_type": "code",
   "execution_count": 6,
   "metadata": {},
   "outputs": [
    {
     "name": "stdout",
     "output_type": "stream",
     "text": [
      "Chatbot is running. Type 'END' to terminate, 'CONVERSATION <id>' to switch conversations, 'LANGUAGE <language_name>' to change language, and 'RESTART' to restart the current conversation.\n",
      "Hello! How can I assist you today?\n",
      "Language set to CROATIAN\n",
      "It's nice to meet you! I'm an AI assistant created by Anthropic. I'm here to help with any questions or tasks you may have. Please let me know if there is anything I can assist you with.\n",
      "Ending conversation. Goodbye!\n"
     ]
    },
    {
     "ename": "SystemExit",
     "evalue": "0",
     "output_type": "error",
     "traceback": [
      "An exception has occurred, use %tb to see the full traceback.\n",
      "\u001b[1;31mSystemExit\u001b[0m\u001b[1;31m:\u001b[0m 0\n"
     ]
    },
    {
     "name": "stderr",
     "output_type": "stream",
     "text": [
      "c:\\Users\\Academy2024\\AppData\\Local\\Programs\\Python\\Python312\\Lib\\site-packages\\IPython\\core\\interactiveshell.py:3585: UserWarning: To exit: use 'exit', 'quit', or Ctrl-D.\n",
      "  warn(\"To exit: use 'exit', 'quit', or Ctrl-D.\", stacklevel=1)\n"
     ]
    }
   ],
   "source": [
    "# Main loop\n",
    "current_session_id = \"default\"\n",
    "current_language = \"English\"\n",
    "\n",
    "def handle_user_input(user_input):\n",
    "    global current_session_id, current_language\n",
    "\n",
    "    if user_input.startswith(\"CONVERSATION \"):\n",
    "        current_session_id = user_input.split(\" \")[1]\n",
    "        print(f\"Switched to conversation {current_session_id}\")\n",
    "    elif user_input.startswith(\"LANGUAGE \"):\n",
    "        current_language = user_input.split(\" \")[1]\n",
    "        print(f\"Language set to {current_language}\")\n",
    "    elif user_input == \"RESTART\":\n",
    "        store[current_session_id] = ChatMessageHistory()\n",
    "        print(f\"Conversation {current_session_id} restarted\")\n",
    "    elif user_input == \"END\":\n",
    "        print(\"Ending conversation. Goodbye!\")\n",
    "        sys.exit(0)\n",
    "    else:\n",
    "        response = with_message_history.invoke(\n",
    "            {\"messages\": [HumanMessage(content=user_input)], \"language\": current_language},\n",
    "            config={\"configurable\": {\"session_id\": current_session_id}},\n",
    "        )\n",
    "        print(response.content)\n",
    "\n",
    "print(\"Chatbot is running. Type 'END' to terminate, 'CONVERSATION <id>' to switch conversations, 'LANGUAGE <language_name>' to change language, and 'RESTART' to restart the current conversation.\")\n",
    "while True:\n",
    "    user_input = input(\"User: \")\n",
    "    handle_user_input(user_input)"
   ]
  }
 ],
 "metadata": {
  "kernelspec": {
   "display_name": "Python 3",
   "language": "python",
   "name": "python3"
  },
  "language_info": {
   "codemirror_mode": {
    "name": "ipython",
    "version": 3
   },
   "file_extension": ".py",
   "mimetype": "text/x-python",
   "name": "python",
   "nbconvert_exporter": "python",
   "pygments_lexer": "ipython3",
   "version": "3.12.4"
  }
 },
 "nbformat": 4,
 "nbformat_minor": 2
}
