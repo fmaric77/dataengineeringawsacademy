{
 "cells": [
  {
   "cell_type": "code",
   "execution_count": 1,
   "metadata": {},
   "outputs": [],
   "source": [
    "# Import necessary libraries and set up logging\n",
    "import pandas as pd\n",
    "import ast\n",
    "import random\n",
    "import logging\n",
    "from langchain import PromptTemplate\n",
    "from langchain_aws import ChatBedrock\n",
    "from langchain_core.output_parsers import StrOutputParser\n",
    "from sklearn.metrics import accuracy_score\n",
    "\n",
    "logging.basicConfig(level=logging.INFO, format='%(asctime)s - %(levelname)s - %(message)s')"
   ]
  },
  {
   "cell_type": "code",
   "execution_count": 2,
   "metadata": {},
   "outputs": [
    {
     "name": "stderr",
     "output_type": "stream",
     "text": [
      "2024-08-30 15:14:18,545 - INFO - Loading dataset from cryptonews.csv\n",
      "2024-08-30 15:14:18,872 - INFO - Parsing sentiment column\n"
     ]
    }
   ],
   "source": [
    "# Load the dataset and define a function to parse the sentiment column\n",
    "dataset_path = \"cryptonews.csv\"\n",
    "logging.info(f\"Loading dataset from {dataset_path}\")\n",
    "df = pd.read_csv(dataset_path, names=[\"timestamp\", \"sentiment\", \"source\", \"category\", \"text\", \"title\", \"url\"])\n",
    "\n",
    "def parse_sentiment(sentiment_str):\n",
    "    try:\n",
    "        return ast.literal_eval(sentiment_str)['class']\n",
    "    except (ValueError, SyntaxError, KeyError):\n",
    "        return None\n",
    "\n",
    "logging.info(\"Parsing sentiment column\")\n",
    "df['sentiment'] = df['sentiment'].apply(parse_sentiment)\n",
    "df = df.dropna(subset=['sentiment'])"
   ]
  },
  {
   "cell_type": "code",
   "execution_count": 3,
   "metadata": {},
   "outputs": [
    {
     "name": "stderr",
     "output_type": "stream",
     "text": [
      "2024-08-30 15:14:24,337 - INFO - Combining title and text columns into content\n",
      "2024-08-30 15:14:24,384 - INFO - Selecting 2500 random positive and negative samples\n",
      "2024-08-30 15:14:24,411 - INFO - Combining and shuffling the dataset\n"
     ]
    }
   ],
   "source": [
    "# Combine title and text, drop unnecessary columns, and select samples\n",
    "logging.info(\"Combining title and text columns into content\")\n",
    "df['content'] = df['title'] + \" \" + df['text']\n",
    "df = df.drop(columns=['timestamp', 'source', 'category', 'url'])\n",
    "\n",
    "logging.info(\"Selecting 2500 random positive and negative samples\")\n",
    "positive_samples = df[df['sentiment'] == 'positive'].sample(n=2500, random_state=42)\n",
    "negative_samples = df[df['sentiment'] == 'negative'].sample(n=2500, random_state=42)\n",
    "\n",
    "logging.info(\"Combining and shuffling the dataset\")\n",
    "combined_df = pd.concat([positive_samples, negative_samples]).sample(frac=1).reset_index(drop=True)\n",
    "texts = combined_df['content'].tolist()\n",
    "sentiments = combined_df['sentiment'].tolist()\n",
    "texts = [str(text) for text in texts]"
   ]
  },
  {
   "cell_type": "code",
   "execution_count": 10,
   "metadata": {},
   "outputs": [
    {
     "name": "stderr",
     "output_type": "stream",
     "text": [
      "2024-08-30 15:32:06,863 - INFO - Setting up sentiment classification chain using LangChain with Bedrock model\n",
      "2024-08-30 15:32:06,894 - INFO - Found credentials in shared credentials file: ~/.aws/credentials\n"
     ]
    }
   ],
   "source": [
    "# Set up sentiment classification chain using LangChain with Bedrock model\n",
    "logging.info(\"Setting up sentiment classification chain using LangChain with Bedrock model\")\n",
    "model_id = \"anthropic.claude-3-haiku-20240307-v1:0\"\n",
    "llm = ChatBedrock(model_id=model_id)\n",
    "\n",
    "# Updated sentiment template with examples\n",
    "sentiment_template = PromptTemplate(\n",
    "    template=\"\"\"Classify the sentiment of this text: {text}\n",
    "Examples:\n",
    "Positive: \"I love this product! It works great and exceeds my expectations.\"\n",
    "Negative: \"This is the worst experience I've ever had. Completely dissatisfied.\"\n",
    "Positive: \"Digital Asset Inflows Reach $1.76 Billion, Marking 10 Weeks of Growth: CoinShares Ethereum saw substantial inflows marking a five-week positive trend and reaching $134 million.\"\n",
    "Negative: \"Crypto Vesting Platform Team Finance Loses $14.5M in Bug Exploit The platform is willing to offer a bounty for the hackers to refund the stolen assets.\"\n",
    "Negative: \"Mango Markets Protocol Suffers $100 Million Exploit The Mango Markets protocol has experienced an exploit that allowed a person or group to get away with around $100m worth of crypto.\"\n",
    "Positive: \"Kraken Enters NFT Game with Waitlist for New Multi-Chain Marketplace Kraken has so far not confirmed when the new marketplace will be launched.\"\n",
    "Negative: \"Ireland's Central Bank Governor Labels Unbacked Cryptos as Ponzi Schemes Unbacked cryptocurrencies are more like a 'Ponzi scheme' than an investment, argued Central Bank of Ireland Governor Gabriel Makhlouf - but adding that 'crypto is not going away very soon.'\"\n",
    "Positive: \"Best Crypto to Buy Today 12th January MEMAG, AVAX, FGHT, NEAR, CCHG, FLOW, RIA, AXS, D2T With the cryptocurrency market up in anticipation of strong US inflation data, we pick the best crypto to buy today.\"\n",
    "Negative: \"Coinbase Slapped With Another Lawsuit for Crashing During Market Volatility Coinbase’s latest lawsuit alleges that it failed to uphold customer account access when it mattered most.\"\n",
    "Positive: \"Cathie Wood's Ark 21Shares, VanEck Kick off Spot Ethereum ETF Race in U.S ARK 21Share and investment manager VanEck have filed for the first-ever Ether (ETH) spot Exchange-Traded Fund (ETF) in the United States. Read on to learn more.\"\n",
    "\"\"\",\n",
    "    input_variables=[\"text\"]\n",
    ")\n",
    "\n",
    "parser = StrOutputParser()\n",
    "sentiment_chain = sentiment_template | llm | parser\n",
    "\n",
    "def classify_sentiment(text):\n",
    "    result = sentiment_chain.invoke({\"text\": text})\n",
    "    return \"positive\" if \"positive\" in result.lower() else \"negative\""
   ]
  },
  {
   "cell_type": "code",
   "execution_count": 11,
   "metadata": {},
   "outputs": [
    {
     "name": "stderr",
     "output_type": "stream",
     "text": [
      "2024-08-30 15:32:15,400 - INFO - Classifying 20 examples from each sentiment class and calculating accuracy\n",
      "2024-08-30 15:32:20,484 - INFO - 1/40 - Text: Crypto Vesting Platform Team Finance Loses $14.5M in Bug Exploit The platform is willing to offer a bounty for the hackers to refund the stolen assets.\\xa0\n",
      "Predicted Sentiment: positive\n",
      "2024-08-30 15:32:23,785 - INFO - 2/40 - Text: Digital Asset Inflows Reach $1.76 Billion, Marking 10 Weeks of Growth: CoinShares Ethereum saw substantial inflows marking a five-week positive trend and reaching $134 million.\n",
      "Predicted Sentiment: positive\n",
      "2024-08-30 15:32:25,511 - INFO - 3/40 - Text: Futures Funding Rates Normalize After Crypto Surge Forced Traders to Pay High Fees to Maintain Long Positions Funding rates on major token futures have started to return to normal levels after recent rally forced traders to pay unusually high fees to sustain their long positions.\n",
      "Predicted Sentiment: positive\n",
      "2024-08-30 15:32:29,296 - INFO - 4/40 - Text: Mango Markets Protocol Suffers $100 Million Exploit The Mango Markets protocol has experienced an exploit that allowed a person or group to get away with around $100m worth of crypto.\n",
      "Predicted Sentiment: positive\n",
      "2024-08-30 15:32:31,862 - INFO - 5/40 - Text: Kraken Enters NFT Game with Waitlist for New Multi-Chain Marketplace Kraken has so far not confirmed when the new marketplace will be launched.\n",
      "Predicted Sentiment: positive\n",
      "2024-08-30 15:32:34,550 - INFO - 6/40 - Text: Ireland's Central Bank Governor Labels Unbacked Cryptos as Ponzi Schemes Unbacked cryptocurrencies are more like a 'Ponzi scheme' than an investment, argued Central Bank of Ireland Governor Gabriel Makhlouf - but adding that 'crypto is not going away very soon.'\n",
      "Predicted Sentiment: negative\n",
      "2024-08-30 15:32:36,951 - INFO - 7/40 - Text: Best Crypto to Buy Today 12th January \\x93 MEMAG, AVAX, FGHT, NEAR, CCHG, FLOW, RIA, AXS, D2T With the cryptocurrency market up in anticipation of strong US inflation data, we pick the best crypto to buy today.\n",
      "Predicted Sentiment: positive\n",
      "2024-08-30 15:32:38,915 - INFO - 8/40 - Text: Coinbase Slapped With Another Lawsuit for Crashing During Market Volatility Coinbase’s latest lawsuit alleges that it failed to uphold customer account access when it mattered most.\\xa0\n",
      "Predicted Sentiment: negative\n",
      "2024-08-30 15:32:41,156 - INFO - 9/40 - Text: Cathie Wood's Ark 21Shares, VanEck Kick off Spot Ethereum ETF Race in U.S ARK 21Share and investment manager VanEck have filed for the first-ever Ether (ETH) spot Exchange-Traded Fund (ETF) in the United States. Read on to learn more.\n",
      "Predicted Sentiment: positive\n",
      "2024-08-30 15:32:44,882 - INFO - 10/40 - Text: Bitcoin and Ethereum Inch Higher, ATOM Jumps Bitcoin price started an upside correction above USD 36,000. Ethereum is consolidating near USD 2,400, XRP is stuck near USD 0.60.\n",
      "Predicted Sentiment: positive\n",
      "2024-08-30 15:32:47,097 - INFO - 11/40 - Text: What is a Doji candle pattern and how to trade with it? ADoji candlestick shows indecisiveness in the market, wherein buying and selling behavior offset each other in a particular timeframe.\n",
      "Predicted Sentiment: positive\n",
      "2024-08-30 15:32:49,404 - INFO - 12/40 - Text: Ethereum derivatives data suggests $1,700 might not remain a resistance level for long ETH derivatives data shows bullish traders becoming more comfortable with the $1,700 price level, creating an opportunity for further rallies.\n",
      "Predicted Sentiment: positive\n",
      "2024-08-30 15:32:51,053 - INFO - 13/40 - Text: Grayscale Revamps GBTC Agreement in Preparation for Bitcoin ETF Conversion Grayscale updates the GBTC agreement for the first time in five years, trying to optimize structure for spot Bitcoin ETF listing.\n",
      "Predicted Sentiment: positive\n",
      "2024-08-30 15:32:53,104 - INFO - 14/40 - Text: Binance USD (BUSD) Binance USD (BUSD), the stablecoin issued by Paxos for crypto exchange Binance, has seen a decline in market capitalization of more than 90% from its peak last year.\n",
      "Predicted Sentiment: negative\n",
      "2024-08-30 15:32:54,932 - INFO - 15/40 - Text: Can Bitcoin repeat a 2017-like rally as dollar correlation reverses? The Dollar Index disconnect from Bitcoin does not necessarily mean that BTC price is about to experience a big rally, historic data suggests.\n",
      "Predicted Sentiment: positive\n",
      "2024-08-30 15:32:57,987 - INFO - 16/40 - Text: Pepe Price Falls Almost 5% But Could This Be the Best Meme Coin to Buy After Raising Over $1.6m The price of the popular meme coin Pepe (PEPE) has fallen almost 5% in the past 12 hours, hitting the $0.00000117 level. Since reaching Thursday’s high of $0.00000145, PEPE has\n",
      "Predicted Sentiment: positive\n",
      "2024-08-30 15:33:00,128 - INFO - 17/40 - Text: Stablecoin Market Cap Marks the Biggest Increase in 3 Months The last time the market cap experienced such a jump was shortly after the crash of Silicon Valley Bank.\n",
      "Predicted Sentiment: positive\n",
      "2024-08-30 15:33:05,332 - INFO - 18/40 - Text: Financial privacy and regulation can co-exist with ZK-proofs — Vitalik Buterin A new paper co-authored by Ethereum's Vitalik Buterin highlights the use of zero-knowledge proofs as a tool for regulatory compliance and on-chain privacy.\n",
      "Predicted Sentiment: positive\n",
      "2024-08-30 15:33:06,813 - INFO - 19/40 - Text: Crypto's Initial Hope for Sex Workers Gives Way to New Challenges Crypto was once one of the best ways for sex workers to get paid. Now, it's scarcely more supportive of the industry than the banking sector. Here are the details.\n",
      "Predicted Sentiment: negative\n",
      "2024-08-30 15:33:09,034 - INFO - 20/40 - Text: Swiss BSV to establish blockchain academy in the Middle East The BSV association and SDA will collaborate through the new blockchain academy in Riyadh to provide blockchain learning and development resources.\n",
      "Predicted Sentiment: positive\n",
      "2024-08-30 15:33:11,664 - INFO - 21/40 - Text: VanEck says Bitcoin could hit $4.8M if it became the global reserve asset The investment firm made very high valuation for BTC and gold based on the extreme case that either becomes the reserve global currency.\n",
      "Predicted Sentiment: positive\n",
      "2024-08-30 15:33:13,803 - INFO - 22/40 - Text: Stepn Reportedly to Lay Off 100 Employees Amid Market Downturn, Company Denies It Play-to-earn game Stepn reportedly started a major layoff of its contract workers amid a market downturn \\x93 but the team behind the app denies firing staff.\n",
      "Predicted Sentiment: negative\n",
      "2024-08-30 15:33:16,036 - INFO - 23/40 - Text: Bitcoin price tests $27K support as Fed holds interest rates at FOMC Bitcoin weathers the Fed's decision to keep rates at their previous levels, while Chair Jerome Powell reveals the potential for another hike to come this year.\n",
      "Predicted Sentiment: positive\n",
      "2024-08-30 15:33:18,074 - INFO - 24/40 - Text: Base and Linea Users Lose $460,000 as SwirlLend Vanishes in Suspected Exit Scam SwirlLend, an Ethereum Layer 2 lending project active on the Base and Linea networks, has reportedly pulled off an exit scam that has resulted in the disappearance of an estimated $460,000 in user deposits. Read on to learn more.\n",
      "Predicted Sentiment: negative\n",
      "2024-08-30 15:33:20,515 - INFO - 25/40 - Text: Bitcoin Price and Ethereum Prediction: Will BTC and ETH Break Free from the Weekend Blues? As Bitcoin and Ethereum continue dominating the cryptocurrency market, traders and investors are closely watching their price movements. Over the weekend, both Bitcoin and Ethereum have been trading within a narrow range, causing some concern among traders.\n",
      "Predicted Sentiment: positive\n",
      "2024-08-30 15:33:23,159 - INFO - 26/40 - Text: Crypto and stocks soften ahead of Fed rate hike, but XRP, ALGO and LDO look ‘interesting’ Crypto and stock markets continue to correct, but that doesn’t mean all the investment opportunities are gone.\n",
      "Predicted Sentiment: positive\n",
      "2024-08-30 15:33:25,839 - INFO - 27/40 - Text: Applied Blockchain Inc files for $60M IPO The application awaits approval from the United States financial regulatory body, SEC\n",
      "Predicted Sentiment: positive\n",
      "2024-08-30 15:33:28,541 - INFO - 28/40 - Text: Lightning Labs Aims to Bitcoinize the Dollar With Taro’s Alpha Release The alpha release is currently limited to testnet usage and will hit the mainnet after developer feedback.\n",
      "Predicted Sentiment: positive\n",
      "2024-08-30 15:33:30,044 - INFO - 29/40 - Text: Bitcoin price 'sideways boredom' may last 18 months — new research BTC price cycles suggest that an 'arduous road' lies ahead for patient Bitcoin hodlers.\n",
      "Predicted Sentiment: positive\n",
      "2024-08-30 15:33:32,178 - INFO - 30/40 - Text: Amazon.eth ENS domain owner disregards 1M USDC buyout offer on Opensea Before it expired, the offer stood at approximately 10x the amount of the domain's last sale.\n",
      "Predicted Sentiment: negative\n",
      "2024-08-30 15:33:33,876 - INFO - 31/40 - Text: Japan to allow start-ups to raise funds by issuing crypto instead of stocks: Report According to local media, Nikkei.com, this updated system is specifically applicable to a category of funds known as Investment Business Limited Partnerships (LPS).\n",
      "Predicted Sentiment: positive\n",
      "2024-08-30 15:33:36,317 - INFO - 32/40 - Text: NFT trading volume nears $1B as markets turn bullish: Report The average value of NFT transactions climbed from $126 to $270, showing an increase of 114% in November.\n",
      "Predicted Sentiment: positive\n",
      "2024-08-30 15:33:38,402 - INFO - 33/40 - Text: Reddit co-founder bought 50,000 Ether during pre-sale, for $15K Alexis Ohanian is extremely bullish on cryptocurrency, even using the proceeds from his early Ether investment to found a crypto-focused venture capitalist firm.\n",
      "Predicted Sentiment: positive\n",
      "2024-08-30 15:33:40,608 - INFO - 34/40 - Text: Bitcoin Price and Ethereum Reverse Sharply, Key Support Nearby Bitcoin price dropped sharply to the $18,500 support. Ethereum dived to $1,265, XRP is down over 10%. QNT and RSR are up over 5%.\n",
      "Predicted Sentiment: negative\n",
      "2024-08-30 15:33:41,905 - INFO - 35/40 - Text: Americans 'frustrated' by financial system inequality, 20% own crypto: Survey Crypto ownership among U.S. adults has remained steady over the last 12 months, with a large portion seemingly 'frustrated' by the one-sided global financial system.\n",
      "Predicted Sentiment: negative\n",
      "2024-08-30 15:33:46,530 - INFO - 36/40 - Text: White Hat Hackers Awarded $300K After Uncovering Critical Chainlink VRF Vulnerability When ethical hackers uncovered a serious vulnerability allowing manipulation of Chainlink's VRF random numbers, the team quickly implemented a fix and awarded a $300K bounty.\n",
      "Predicted Sentiment: positive\n",
      "2024-08-30 15:33:47,913 - INFO - 37/40 - Text: Tribe Capital Interested in Sponsoring FTX’s Revival Plan (Report) Tribe Capital might lead a $250 million funding round that aims to restart the operations of FTX.\n",
      "Predicted Sentiment: positive\n",
      "2024-08-30 15:33:51,058 - INFO - 38/40 - Text: SEC acknowledges Fidelity, VanEck, WisdomTree, and Invesco Spot Bitcoin ETF applications On July 14, the Securities and Exchange Commission (SEC) acknowledged the spot Bitcoin ETF applications submitted by Fidelity, VanEck, WisdomTree, and Invesco.\n",
      "Predicted Sentiment: positive\n",
      "2024-08-30 15:33:53,319 - INFO - 39/40 - Text: ‘Wild’ — SEC going after Terra sparks responses from crypto lawyers While community members are not defending Terra and Do Kwon, they are questioning the manner in which the SEC is going after the company and its founder.\n",
      "Predicted Sentiment: negative\n",
      "2024-08-30 15:33:55,984 - INFO - 40/40 - Text: ‘We don’t like our money’: The story of the CFA and Bitcoin in Africa African crypto experts and entrepreneurs explain why the CFA franc is an uncomfortable currency and why Bitcoin is making waves as a replacement.\n",
      "Predicted Sentiment: positive\n",
      "2024-08-30 15:33:55,988 - INFO - Accuracy: 55.00%\n"
     ]
    }
   ],
   "source": [
    "# Classify samples and calculate accuracy\n",
    "logging.info(\"Classifying 20 examples from each sentiment class and calculating accuracy\")\n",
    "sample_texts = positive_samples['content'].tolist()[:20] + negative_samples['content'].tolist()[:20]\n",
    "sample_sentiments = ['positive'] * 20 + ['negative'] * 20\n",
    "\n",
    "predicted_sentiments = []\n",
    "for i, text in enumerate(sample_texts):\n",
    "    sentiment = classify_sentiment(text)\n",
    "    logging.info(f\"{i+1}/{len(sample_texts)} - Text: {text}\\nPredicted Sentiment: {sentiment}\")\n",
    "    predicted_sentiments.append(sentiment)\n",
    "\n",
    "accuracy = accuracy_score(sample_sentiments, predicted_sentiments)\n",
    "logging.info(f\"Accuracy: {accuracy * 100:.2f}%\")"
   ]
  },
  {
   "cell_type": "code",
   "execution_count": 12,
   "metadata": {},
   "outputs": [
    {
     "name": "stderr",
     "output_type": "stream",
     "text": [
      "2024-08-30 15:35:22,864 - INFO - Setting up adjective extraction chain using LangChain with Bedrock model\n"
     ]
    }
   ],
   "source": [
    "# Define reverse sentiment chain and functions for adjective extraction and haiku generation\n",
    "reverse_template = PromptTemplate(template=\"Reverse the sentiment of this text: {text}\", input_variables=[\"text\"])\n",
    "reverse_chain = reverse_template | llm | parser\n",
    "\n",
    "def reverse_sentiment(text):\n",
    "    return reverse_chain.invoke({\"text\": text})\n",
    "\n",
    "logging.info(\"Setting up adjective extraction chain using LangChain with Bedrock model\")\n",
    "adjective_template = PromptTemplate(template=\"Extract adjectives from this text: {text}\", input_variables=[\"text\"])\n",
    "adjective_chain = adjective_template | llm | parser\n",
    "\n",
    "def extract_adjectives(text):\n",
    "    result = adjective_chain.invoke({\"text\": text})\n",
    "    # Extract the adjectives from the response\n",
    "    adjectives = result.split(\"\\n\")[1:]  # Skip the first line which is the header\n",
    "    adjectives = [adj.split(\". \")[1] for adj in adjectives if \". \" in adj]  # Extract the adjective part\n",
    "    logging.info(f\"Extracted adjectives: {adjectives}\")\n",
    "    return adjectives\n",
    "\n",
    "def generate_haiku(adjectives, theme):\n",
    "    if len(adjectives) < 3:\n",
    "        logging.warning(\"Not enough adjectives to generate a haiku.\")\n",
    "        return \"Not enough adjectives to generate a haiku.\"\n",
    "    haiku = f\"{theme} are {adjectives[0]},\\n{adjectives[1]} and {adjectives[2]},\\n{theme} in the sky.\"\n",
    "    return haiku\n",
    "\n",
    "def process_review(review, theme):\n",
    "    logging.info(f\"Processing review for theme: {theme}\")\n",
    "    reversed_text = reverse_sentiment(review)\n",
    "    adjectives = extract_adjectives(reversed_text)\n",
    "    haiku = generate_haiku(adjectives, theme)\n",
    "    return haiku"
   ]
  },
  {
   "cell_type": "code",
   "execution_count": 13,
   "metadata": {},
   "outputs": [
    {
     "name": "stderr",
     "output_type": "stream",
     "text": [
      "2024-08-30 15:35:28,043 - INFO - Original Review: I watch this amazing movie every single night, the green actor is dreamy and I am in love with the great story.\n",
      "2024-08-30 15:35:28,544 - INFO - Reversed Sentiment Review: I despise this abysmal movie every single night, the green actor is repulsive and I loathe the dreadful story.\n",
      "2024-08-30 15:35:29,991 - INFO - Extracted adjectives: ['amazing', 'single', 'green', 'dreamy', 'great']\n",
      "2024-08-30 15:35:29,991 - INFO - Extracted Adjectives: ['amazing', 'single', 'green', 'dreamy', 'great']\n",
      "2024-08-30 15:35:29,991 - INFO - Processing review for theme: birds\n",
      "2024-08-30 15:35:31,184 - INFO - Extracted adjectives: ['amazing', 'single', 'green', 'dreamy', 'great']\n",
      "2024-08-30 15:35:31,184 - INFO - Haiku about birds: birds are amazing,\n",
      "single and green,\n",
      "birds in the sky.\n",
      "2024-08-30 15:35:31,199 - INFO - Processing review for theme: octopuses\n",
      "2024-08-30 15:35:32,629 - INFO - Extracted adjectives: ['terrible', 'annoying', 'dreadful']\n",
      "2024-08-30 15:35:32,647 - INFO - Haiku about octopuses: octopuses are terrible,\n",
      "annoying and dreadful,\n",
      "octopuses in the sky.\n"
     ]
    }
   ],
   "source": [
    "# Example usage\n",
    "review = \"I watch this amazing movie every single night, the green actor is dreamy and I am in love with the great story.\"\n",
    "logging.info(\"Original Review: \" + review)\n",
    "logging.info(\"Reversed Sentiment Review: \" + reverse_sentiment(review))\n",
    "logging.info(\"Extracted Adjectives: \" + str(extract_adjectives(reverse_sentiment(review))))\n",
    "logging.info(\"Haiku about birds: \" + process_review(review, \"birds\"))\n",
    "logging.info(\"Haiku about octopuses: \" + process_review(review, \"octopuses\"))"
   ]
  }
 ],
 "metadata": {
  "kernelspec": {
   "display_name": "Python 3",
   "language": "python",
   "name": "python3"
  },
  "language_info": {
   "codemirror_mode": {
    "name": "ipython",
    "version": 3
   },
   "file_extension": ".py",
   "mimetype": "text/x-python",
   "name": "python",
   "nbconvert_exporter": "python",
   "pygments_lexer": "ipython3",
   "version": "3.12.4"
  }
 },
 "nbformat": 4,
 "nbformat_minor": 2
}
